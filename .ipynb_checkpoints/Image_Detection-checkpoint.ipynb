{
 "cells": [
  {
   "cell_type": "code",
   "execution_count": 1,
   "id": "228c0f37",
   "metadata": {},
   "outputs": [
    {
     "name": "stdout",
     "output_type": "stream",
     "text": [
      "Requirement already satisfied: opencv-python in c:\\users\\abhinav\\anaconda3\\envs\\tfod\\lib\\site-packages (4.6.0.66)\n",
      "Requirement already satisfied: numpy>=1.19.3 in c:\\users\\abhinav\\anaconda3\\envs\\tfod\\lib\\site-packages (from opencv-python) (1.21.5)\n"
     ]
    }
   ],
   "source": [
    "!pip install opencv-python"
   ]
  },
  {
   "cell_type": "code",
   "execution_count": 2,
   "id": "decf3172",
   "metadata": {},
   "outputs": [],
   "source": [
    "import cv2\n",
    "import uuid\n",
    "import os\n",
    "import time"
   ]
  },
  {
   "cell_type": "code",
   "execution_count": 13,
   "id": "298cbb25",
   "metadata": {},
   "outputs": [],
   "source": [
    "IMAGE_PATH = os.path.join(\"Tensorflow\", \"workspace\", \"images\")"
   ]
  },
  {
   "cell_type": "code",
   "execution_count": 14,
   "id": "5b8fe6c6",
   "metadata": {},
   "outputs": [],
   "source": [
    "labels = [\"thumbs_up\", \"thumbs_down\", \"thank_you\", \"live_long\"]\n",
    "num_imgs = 5"
   ]
  },
  {
   "cell_type": "code",
   "execution_count": 17,
   "id": "f9db372a",
   "metadata": {},
   "outputs": [],
   "source": [
    "if not os.path.exists(IMAGE_PATH):\n",
    "    os.makedirs(IMAGE_PATH)"
   ]
  },
  {
   "cell_type": "code",
   "execution_count": null,
   "id": "64752883",
   "metadata": {},
   "outputs": [],
   "source": []
  }
 ],
 "metadata": {
  "kernelspec": {
   "display_name": "tfod",
   "language": "python",
   "name": "tfod"
  },
  "language_info": {
   "codemirror_mode": {
    "name": "ipython",
    "version": 3
   },
   "file_extension": ".py",
   "mimetype": "text/x-python",
   "name": "python",
   "nbconvert_exporter": "python",
   "pygments_lexer": "ipython3",
   "version": "3.9.13"
  }
 },
 "nbformat": 4,
 "nbformat_minor": 5
}
