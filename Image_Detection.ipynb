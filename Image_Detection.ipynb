{
 "cells": [
  {
   "cell_type": "code",
   "execution_count": 2,
   "id": "6946cb8a",
   "metadata": {},
   "outputs": [
    {
     "name": "stdout",
     "output_type": "stream",
     "text": [
      "Requirement already satisfied: opencv-python in c:\\users\\fw2220\\anaconda3\\envs\\aslpy\\lib\\site-packages (4.6.0.66)\n",
      "Requirement already satisfied: numpy>=1.17.3 in c:\\users\\fw2220\\anaconda3\\envs\\aslpy\\lib\\site-packages (from opencv-python) (1.21.5)\n"
     ]
    }
   ],
   "source": [
    "!pip install opencv-python\""
   ]
  },
  {
   "cell_type": "code",
   "execution_count": 3,
   "id": "87b468e8",
   "metadata": {},
   "outputs": [],
   "source": [
    "import cv2\n",
    "import uuid\n",
    "import os\n",
    "import time"
   ]
  },
  {
   "cell_type": "code",
   "execution_count": 4,
   "id": "38078297",
   "metadata": {},
   "outputs": [],
   "source": [
    "IMAGE_PATH = os.path.join(\"Tensorflow\", \"workspace\", \"images\")"
   ]
  },
  {
   "cell_type": "code",
   "execution_count": 5,
   "id": "88c1c07f",
   "metadata": {},
   "outputs": [],
   "source": [
    "labels = [\"thumbs_up\", \"thumbs_down\", \"thank_you\", \"live_long\"]\n",
    "num_imgs = 5"
   ]
  },
  {
   "cell_type": "code",
   "execution_count": 6,
   "id": "d930f80f",
   "metadata": {},
   "outputs": [],
   "source": [
    "if not os.path.exists(IMAGE_PATH):\n",
    "    os.makedirs(IMAGE_PATH)"
   ]
  },
  {
   "cell_type": "code",
   "execution_count": 10,
   "id": "c8f09c20",
   "metadata": {},
   "outputs": [
    {
     "name": "stdout",
     "output_type": "stream",
     "text": [
      "Reading image 1 for label thumbs_up\n",
      "Reading image 2 for label thumbs_up\n",
      "Reading image 3 for label thumbs_up\n",
      "Reading image 4 for label thumbs_up\n",
      "Reading image 5 for label thumbs_up\n",
      "Reading image 1 for label thumbs_down\n",
      "Reading image 2 for label thumbs_down\n",
      "Reading image 3 for label thumbs_down\n",
      "Reading image 4 for label thumbs_down\n",
      "Reading image 5 for label thumbs_down\n",
      "Reading image 1 for label thank_you\n",
      "Reading image 2 for label thank_you\n",
      "Reading image 3 for label thank_you\n",
      "Reading image 4 for label thank_you\n",
      "Reading image 5 for label thank_you\n",
      "Reading image 1 for label live_long\n",
      "Reading image 2 for label live_long\n",
      "Reading image 3 for label live_long\n",
      "Reading image 4 for label live_long\n",
      "Reading image 5 for label live_long\n",
      "Image Collection Complete\n"
     ]
    }
   ],
   "source": [
    "for label in labels:\n",
    "    LABEL_PATH = os.path.join(IMAGE_PATH, label)\n",
    "    if (not os.path.exists(LABEL_PATH)):\n",
    "        os.mkdir(LABEL_PATH)\n",
    "    \n",
    "    for i in range(num_imgs):\n",
    "        cam = cv2.VideoCapture(0)\n",
    "        print(\"Reading image \" + str(i + 1) + \" for label \" + label)\n",
    "        time.sleep(3)\n",
    "        ret, frame = cam.read()\n",
    "        cv2.imshow(\"Window\", frame)\n",
    "        imageName = os.path.join(LABEL_PATH, label + '-{}.jpg'.format(str(uuid.uuid1())))\n",
    "        cv2.imwrite(imageName, frame)\n",
    "        cam.release()\n",
    "\n",
    "cam.release()\n",
    "cv2.destroyAllWindows() \n",
    "print(\"Image Collection Complete\")"
   ]
  },
  {
   "cell_type": "code",
   "execution_count": 8,
   "id": "203ea692",
   "metadata": {},
   "outputs": [],
   "source": [
    "cam.release()\n",
    "cv2.destroyAllWindows() "
   ]
  }
 ],
 "metadata": {
  "kernelspec": {
   "display_name": "aslpy",
   "language": "python",
   "name": "aslpy"
  },
  "language_info": {
   "codemirror_mode": {
    "name": "ipython",
    "version": 3
   },
   "file_extension": ".py",
   "mimetype": "text/x-python",
   "name": "python",
   "nbconvert_exporter": "python",
   "pygments_lexer": "ipython3",
   "version": "3.9.13"
  }
 },
 "nbformat": 4,
 "nbformat_minor": 5
}
