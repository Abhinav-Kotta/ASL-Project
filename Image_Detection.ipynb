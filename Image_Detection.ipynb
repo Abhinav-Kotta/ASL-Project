{
 "cells": [
  {
   "cell_type": "code",
   "execution_count": 7,
   "id": "6946cb8a",
   "metadata": {},
   "outputs": [
    {
     "name": "stdout",
     "output_type": "stream",
     "text": [
      "Requirement already satisfied: opencv-python in c:\\users\\abhinav\\anaconda3\\envs\\tfod\\lib\\site-packages (4.6.0.66)\n",
      "Requirement already satisfied: numpy>=1.19.3 in c:\\users\\abhinav\\anaconda3\\envs\\tfod\\lib\\site-packages (from opencv-python) (1.21.5)\n"
     ]
    },
    {
     "name": "stderr",
     "output_type": "stream",
     "text": [
      "\n",
      "[notice] A new release of pip available: 22.2.2 -> 22.3\n",
      "[notice] To update, run: python.exe -m pip install --upgrade pip\n"
     ]
    }
   ],
   "source": [
    "!pip install opencv-python\""
   ]
  },
  {
   "cell_type": "code",
   "execution_count": 8,
   "id": "87b468e8",
   "metadata": {},
   "outputs": [],
   "source": [
    "import cv2\n",
    "import uuid\n",
    "import os\n",
    "import time"
   ]
  },
  {
   "cell_type": "code",
   "execution_count": 9,
   "id": "38078297",
   "metadata": {},
   "outputs": [],
   "source": [
    "IMAGE_PATH = os.path.join(\"Tensorflow\", \"workspace\", \"images\")"
   ]
  },
  {
   "cell_type": "code",
   "execution_count": 10,
   "id": "88c1c07f",
   "metadata": {},
   "outputs": [],
   "source": [
    "labels = [\"thumbs_up\", \"thumbs_down\", \"thank_you\", \"live_long\"]\n",
    "num_imgs = 5"
   ]
  },
  {
   "cell_type": "code",
   "execution_count": 11,
   "id": "d930f80f",
   "metadata": {},
   "outputs": [],
   "source": [
    "if not os.path.exists(IMAGE_PATH):\n",
    "    os.makedirs(IMAGE_PATH)"
   ]
  },
  {
   "cell_type": "code",
   "execution_count": 12,
   "id": "c8f09c20",
   "metadata": {},
   "outputs": [
    {
     "name": "stdout",
     "output_type": "stream",
     "text": [
      "Reading image 1 for label thumbs_up\n",
      "Reading image 2 for label thumbs_up\n",
      "Reading image 3 for label thumbs_up\n",
      "Reading image 4 for label thumbs_up\n",
      "Reading image 5 for label thumbs_up\n",
      "Reading image 1 for label thumbs_down\n",
      "Reading image 2 for label thumbs_down\n",
      "Reading image 3 for label thumbs_down\n",
      "Reading image 4 for label thumbs_down\n",
      "Reading image 5 for label thumbs_down\n",
      "Reading image 1 for label thank_you\n",
      "Reading image 2 for label thank_you\n",
      "Reading image 3 for label thank_you\n",
      "Reading image 4 for label thank_you\n",
      "Reading image 5 for label thank_you\n",
      "Reading image 1 for label live_long\n",
      "Reading image 2 for label live_long\n",
      "Reading image 3 for label live_long\n",
      "Reading image 4 for label live_long\n",
      "Reading image 5 for label live_long\n"
     ]
    }
   ],
   "source": [
    "for label in labels:\n",
    "    LABEL_PATH = os.path.join(IMAGE_PATH, label)\n",
    "    if (not os.path.exists(LABEL_PATH)):\n",
    "        os.mkdir(LABEL_PATH)\n",
    "    \n",
    "    for i in range(num_imgs):\n",
    "        cam = cv2.VideoCapture(0)\n",
    "        print(\"Reading image \" + str(i + 1) + \" for label \" + label)\n",
    "        time.sleep(5)\n",
    "        ret, frame = cam.read()\n",
    "        cv2.imshow(\"Window\", frame)\n",
    "        imageName = os.path.join(LABEL_PATH, label + '-{}.jpg'.format(str(uuid.uuid1())))\n",
    "        cv2.imwrite(imageName, frame)\n",
    "        cam.release()\n",
    "    \n",
    "cam.release()\n",
    "cv2.destroyAllWindows() "
   ]
  },
  {
   "cell_type": "code",
   "execution_count": null,
   "id": "5479cb8d",
   "metadata": {},
   "outputs": [],
   "source": []
  }
 ],
 "metadata": {
  "kernelspec": {
   "display_name": "tfod",
   "language": "python",
   "name": "tfod"
  },
  "language_info": {
   "codemirror_mode": {
    "name": "ipython",
    "version": 3
   },
   "file_extension": ".py",
   "mimetype": "text/x-python",
   "name": "python",
   "nbconvert_exporter": "python",
   "pygments_lexer": "ipython3",
   "version": "3.9.13"
  }
 },
 "nbformat": 4,
 "nbformat_minor": 5
}
