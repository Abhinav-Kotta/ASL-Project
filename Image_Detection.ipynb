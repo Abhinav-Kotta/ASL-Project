{
 "cells": [
  {
   "cell_type": "code",
   "execution_count": 1,
   "id": "6946cb8a",
   "metadata": {},
   "outputs": [
    {
     "name": "stdout",
     "output_type": "stream",
     "text": [
      "Requirement already satisfied: opencv-python in c:\\users\\abhinav\\anaconda3\\envs\\tfod\\lib\\site-packages (4.6.0.66)\n",
      "Requirement already satisfied: numpy>=1.19.3 in c:\\users\\abhinav\\anaconda3\\envs\\tfod\\lib\\site-packages (from opencv-python) (1.22.3)\n"
     ]
    }
   ],
   "source": [
    "!pip install opencv-python"
   ]
  },
  {
   "cell_type": "code",
   "execution_count": 2,
   "id": "87b468e8",
   "metadata": {},
   "outputs": [],
   "source": [
    "import cv2\n",
    "import uuid\n",
    "import os\n",
    "import time"
   ]
  },
  {
   "cell_type": "code",
   "execution_count": 3,
   "id": "38078297",
   "metadata": {},
   "outputs": [],
   "source": [
    "IMAGE_PATH = os.path.join(\"Tensorflow\", \"workspace\", \"images\")"
   ]
  },
  {
   "cell_type": "code",
   "execution_count": 4,
   "id": "88c1c07f",
   "metadata": {},
   "outputs": [],
   "source": [
    "labels = [\"thumbs_up\", \"thumbs_down\", \"thank_you\", \"live_long\"]\n",
    "num_imgs = 5"
   ]
  },
  {
   "cell_type": "code",
   "execution_count": 5,
   "id": "d930f80f",
   "metadata": {},
   "outputs": [],
   "source": [
    "if not os.path.exists(IMAGE_PATH):\n",
    "    os.makedirs(IMAGE_PATH)"
   ]
  },
  {
   "cell_type": "code",
   "execution_count": 7,
   "id": "c8f09c20",
   "metadata": {
    "scrolled": true
   },
   "outputs": [
    {
     "name": "stdout",
     "output_type": "stream",
     "text": [
      "Reading image 1 for label thumbs_up\n",
      "Reading image 2 for label thumbs_up\n",
      "Reading image 3 for label thumbs_up\n",
      "Reading image 4 for label thumbs_up\n",
      "Reading image 5 for label thumbs_up\n",
      "Reading image 1 for label thumbs_down\n",
      "Reading image 2 for label thumbs_down\n",
      "Reading image 3 for label thumbs_down\n",
      "Reading image 4 for label thumbs_down\n",
      "Reading image 5 for label thumbs_down\n",
      "Reading image 1 for label thank_you\n",
      "Reading image 2 for label thank_you\n",
      "Reading image 3 for label thank_you\n",
      "Reading image 4 for label thank_you\n",
      "Reading image 5 for label thank_you\n",
      "Reading image 1 for label live_long\n",
      "Reading image 2 for label live_long\n",
      "Reading image 3 for label live_long\n",
      "Reading image 4 for label live_long\n",
      "Reading image 5 for label live_long\n"
     ]
    }
   ],
   "source": [
    "# for label in labels:\n",
    "#     LABEL_PATH = os.path.join(IMAGE_PATH, label)\n",
    "#     if (not os.path.exists(LABEL_PATH)):\n",
    "#         os.mkdir(LABEL_PATH)\n",
    "    \n",
    "#     for i in range(num_imgs):\n",
    "#         cam = cv2.VideoCapture(1)\n",
    "#         print(\"Reading image \" + str(i + 1) + \" for label \" + label)\n",
    "#         time.sleep(3)\n",
    "#         ret, frame = cam.read()\n",
    "#         cv2.imshow(\"Window\", frame)\n",
    "#         imageName = os.path.join(LABEL_PATH, label + '-{}.jpg'.format(str(uuid.uuid1())))\n",
    "#         cv2.imwrite(imageName, frame)\n",
    "#         cam.release()\n",
    "    \n",
    "# cam.release()\n",
    "# cv2.destroyAllWindows() \n",
    "\n",
    "frame_width = 680\n",
    "frame_height = 480\n",
    "fps = 30.0\n",
    "\n",
    "video_capture = cv2.VideoCapture(0)\n",
    "video_capture.set(cv2.CAP_PROP_FRAME_WIDTH, frame_width)\n",
    "video_capture.set(cv2.CAP_PROP_FRAME_HEIGHT, frame_height)\n",
    "\n",
    "size = (int(video_capture.get(cv2.CAP_PROP_FRAME_WIDTH)), int(video_capture.get(cv2.CAP_PROP_FRAME_HEIGHT)))\n",
    "\n",
    "fourcc = cv2.VideoWriter_fourcc(*'MP4V')\n",
    "video_writer = cv2.VideoWriter('sample.mp4', fourcc, fps, size)\n",
    "\n",
    "for label in labels:\n",
    "    LABEL_PATH = os.path.join(IMAGE_PATH, label)\n",
    "    if (not os.path.exists(LABEL_PATH)):\n",
    "        os.mkdir(LABEL_PATH)\n",
    "        \n",
    "    for i in range(num_imgs):\n",
    "        \n",
    "        print(\"Reading image \" + str(i + 1) + \" for label \" + label)\n",
    "        time.sleep(5)\n",
    "        key = cv2.waitKey(1)\n",
    "        \n",
    "        ret, frame = video_capture.read()\n",
    "        cv2.imshow('frame', frame)\n",
    "            \n",
    "        # saving frame as image\n",
    "        imageName = os.path.join(LABEL_PATH, label + '-{}.jpg'.format(str(uuid.uuid1())))\n",
    "        cv2.imwrite(imageName, frame)\n",
    "\n",
    "\n",
    "video_capture.release()\n",
    "video_writer.release()\n",
    "cv2.destroyAllWindows()"
   ]
  },
  {
   "cell_type": "code",
   "execution_count": 8,
   "id": "5479cb8d",
   "metadata": {},
   "outputs": [
    {
     "name": "stdout",
     "output_type": "stream",
     "text": [
      "Requirement already satisfied: pyqt5 in c:\\users\\abhinav\\anaconda3\\envs\\tfod\\lib\\site-packages (5.15.7)\n",
      "Requirement already satisfied: lxml in c:\\users\\abhinav\\anaconda3\\envs\\tfod\\lib\\site-packages (4.9.1)\n",
      "Requirement already satisfied: PyQt5-Qt5>=5.15.0 in c:\\users\\abhinav\\anaconda3\\envs\\tfod\\lib\\site-packages (from pyqt5) (5.15.2)\n",
      "Requirement already satisfied: PyQt5-sip<13,>=12.11 in c:\\users\\abhinav\\anaconda3\\envs\\tfod\\lib\\site-packages (from pyqt5) (12.11.0)\n"
     ]
    }
   ],
   "source": [
    " !pip install --upgrade pyqt5 lxml"
   ]
  },
  {
   "cell_type": "code",
   "execution_count": 9,
   "id": "3cfb806e",
   "metadata": {},
   "outputs": [],
   "source": [
    "LABEL_IMAGE_PATH = os.path.join('Tensorflow', 'labelimg')"
   ]
  },
  {
   "cell_type": "code",
   "execution_count": 10,
   "id": "469ba655",
   "metadata": {},
   "outputs": [],
   "source": [
    "if not os.path.exists(LABEL_IMAGE_PATH):\n",
    "    !mkdir {LABEL_IMAGE_PATH}\n",
    "    !git clone https://github.com/tzutalin/labelImg {LABEL_IMAGE_PATH}"
   ]
  },
  {
   "cell_type": "code",
   "execution_count": 11,
   "id": "a652ce48",
   "metadata": {},
   "outputs": [],
   "source": [
    "if os.name == 'posix':\n",
    "    !make qt5py3\n",
    "if os.name =='nt':\n",
    "    !cd {LABEL_IMAGE_PATH} && pyrcc5 -o libs/resources.py resources.qrc"
   ]
  },
  {
   "cell_type": "code",
   "execution_count": null,
   "id": "c0f95ff1",
   "metadata": {},
   "outputs": [],
   "source": [
    "!cd {LABEL_IMAGE_PATH} && python labelImg.py"
   ]
  },
  {
   "cell_type": "code",
   "execution_count": null,
   "id": "44018514",
   "metadata": {},
   "outputs": [],
   "source": []
  }
 ],
 "metadata": {
  "kernelspec": {
   "display_name": "tfod",
   "language": "python",
   "name": "tfod"
  },
  "language_info": {
   "codemirror_mode": {
    "name": "ipython",
    "version": 3
   },
   "file_extension": ".py",
   "mimetype": "text/x-python",
   "name": "python",
   "nbconvert_exporter": "python",
   "pygments_lexer": "ipython3",
   "version": "3.9.13"
  }
 },
 "nbformat": 4,
 "nbformat_minor": 5
}
